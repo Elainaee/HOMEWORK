{
 "cells": [
  {
   "cell_type": "markdown",
   "id": "426e3e27",
   "metadata": {},
   "source": [
    "**<font color='red' size=\"5pt\">How to submit your homework:</font>**\n",
    "\n",
    "After you complete this notebook, upload this .ipynb file to the blackboard.\n",
    "\n",
    "<font color='red'></font>Or in the jupyter notebook mode in the browser, print the page, select print as pdf, then upload the .pdf file to BlackBoard."
   ]
  },
  {
   "cell_type": "markdown",
   "id": "ade33848",
   "metadata": {},
   "source": [
    "# Homework\n",
    "\n",
    "Welcome to **Introduction to Data Science**!  \n",
    "\n",
    "We will have 7-8 assignments like this one.  You can't learn technical subjects without hands-on practice, so homeworks are an important part of the course.\n",
    "\n",
    "**Homework 1**\n",
    "\n",
    "Homework 1 is a warming up assignment that will guide you familiar with the basics and settings for this class."
   ]
  },
  {
   "cell_type": "markdown",
   "id": "489040e8",
   "metadata": {},
   "source": [
    "# Jupyter notebooks\n",
    "This webpage is called a Jupyter notebook. A notebook is a place to write programs and view their results.\n",
    "\n",
    "## Text cells\n",
    "In a notebook, each rectangle containing text or code is called a *cell*.\n",
    "\n",
    "Text cells (like this one) can be edited by double-clicking on them. They're written in a simple format called [Markdown](http://daringfireball.net/projects/markdown/syntax) to add formatting and section headings.  You don't need to learn Markdown, but you might want to.\n",
    "\n",
    "After you edit a text cell, click the \"run cell\" button at the top that looks like ▶| to confirm any changes."
   ]
  },
  {
   "cell_type": "markdown",
   "id": "55e6604e",
   "metadata": {},
   "source": [
    "## Code cells\n",
    "Other cells contain code in the Python 3 language. Running a code cell will execute all of the code it contains.\n",
    "\n",
    "To run the code in a code cell, first click on that cell to activate it.  It'll be highlighted with a little green or blue rectangle.  Next, either press ▶| or hold down the `shift` key and press `return` or `enter`.\n",
    "\n",
    "Try running this cell:"
   ]
  },
  {
   "cell_type": "code",
   "execution_count": 82,
   "id": "22dfc8a3",
   "metadata": {},
   "outputs": [
    {
     "name": "stdout",
     "output_type": "stream",
     "text": [
      "Hello, World!\n"
     ]
    }
   ],
   "source": [
    "print(\"Hello, World!\")"
   ]
  },
  {
   "cell_type": "markdown",
   "id": "c99d2d8d",
   "metadata": {},
   "source": [
    "And this one:"
   ]
  },
  {
   "cell_type": "code",
   "execution_count": 83,
   "id": "caf1e46a",
   "metadata": {
    "ExecuteTime": {
     "end_time": "2024-09-23T08:26:31.183797Z",
     "start_time": "2024-09-23T08:26:31.167428Z"
    }
   },
   "outputs": [
    {
     "name": "stdout",
     "output_type": "stream",
     "text": [
      "👋, 🌏!\n"
     ]
    }
   ],
   "source": [
    "print(\"\\N{WAVING HAND SIGN}, \\N{EARTH GLOBE ASIA-AUSTRALIA}!\")"
   ]
  },
  {
   "cell_type": "markdown",
   "id": "825ce5f4",
   "metadata": {},
   "source": [
    "The fundamental building block of Python code is an expression. Cells can contain multiple lines with multiple expressions. When you run a cell, the lines of code are executed in the order in which they appear. Every `print` expression prints a line. Run the next cell and notice the order of the output."
   ]
  },
  {
   "cell_type": "code",
   "execution_count": 84,
   "id": "821328bb",
   "metadata": {},
   "outputs": [
    {
     "name": "stdout",
     "output_type": "stream",
     "text": [
      "First this line,\n",
      "then the whole 🌏,\n",
      "and then this one.\n"
     ]
    }
   ],
   "source": [
    "# your code here\n",
    "\n",
    "print(\"First this line,\")\n",
    "print(\"then the whole \\N{EARTH GLOBE ASIA-AUSTRALIA},\")\n",
    "print(\"and then this one.\")"
   ]
  },
  {
   "cell_type": "markdown",
   "id": "7457088f",
   "metadata": {},
   "source": [
    "**<font color='red'>Question:</font>** Change the cell above so that it prints out:\n",
    "\n",
    "    First this line,\n",
    "    then the whole 🌏,\n",
    "    and then this one.\n"
   ]
  },
  {
   "cell_type": "markdown",
   "id": "13dd92b2",
   "metadata": {},
   "source": [
    "**<font color='red'>Question:</font>** Yuri Gagarin was the first person to travel through outer space.  When he emerged from his capsule upon landing on Earth, he had the following conversation with a woman and girl who saw the landing:\n",
    "\n",
    "    The woman asked: \"Can it be that you have come from outer space?\"\n",
    "    Gagarin replied: \"As a matter of fact, I have!\"\n",
    "\n",
    "The cell below contains unfinished code.  Fill in the `...`s so that it prints out this conversation *exactly* as it appears above."
   ]
  },
  {
   "cell_type": "code",
   "execution_count": 85,
   "id": "ca4c0ed4",
   "metadata": {},
   "outputs": [
    {
     "name": "stdout",
     "output_type": "stream",
     "text": [
      "The woman asked: \"Can it be that you have come from outer space?\"\n",
      "Gagarin replied: \"As a matter of fact, I have!\"\n"
     ]
    }
   ],
   "source": [
    "# your code here\n",
    "woman_asking = 'The woman asked:'\n",
    "woman_quote = '\"Can it be that you have come from outer space?\"'\n",
    "gagarin_reply = 'Gagarin replied:'\n",
    "gagarin_quote = '\"As a matter of fact, I have!\"'\n",
    "\n",
    "print(woman_asking, woman_quote)\n",
    "print(gagarin_reply, gagarin_quote)"
   ]
  },
  {
   "cell_type": "markdown",
   "id": "5f00e8a3",
   "metadata": {},
   "source": [
    "You can also use the **print()** function to print strings and variables together, which will lead to a meaningfull string. For example:"
   ]
  },
  {
   "cell_type": "code",
   "execution_count": 86,
   "id": "1017271f",
   "metadata": {
    "ExecuteTime": {
     "end_time": "2021-09-14T08:53:58.376158Z",
     "start_time": "2021-09-14T08:53:58.360157Z"
    }
   },
   "outputs": [
    {
     "name": "stdout",
     "output_type": "stream",
     "text": [
      "There are  5 boys in the class.\n",
      "There are  11 students in the class.\n"
     ]
    }
   ],
   "source": [
    "boys = 5\n",
    "girls = 6\n",
    "print (\"There are \", boys, \"boys in the class.\")\n",
    "print (\"There are \", boys+girls, \"students in the class.\")"
   ]
  },
  {
   "cell_type": "markdown",
   "id": "38a4c9c9",
   "metadata": {},
   "source": [
    "# Arithmetic\n",
    "The line in the next cell subtracts.  Its value is what you'd expect.  Run it."
   ]
  },
  {
   "cell_type": "code",
   "execution_count": 87,
   "id": "6de693a2",
   "metadata": {},
   "outputs": [
    {
     "data": {
      "text/plain": [
       "1.75"
      ]
     },
     "execution_count": 87,
     "metadata": {},
     "output_type": "execute_result"
    }
   ],
   "source": [
    "3.25 - 1.5"
   ]
  },
  {
   "cell_type": "markdown",
   "id": "c57a396f",
   "metadata": {},
   "source": [
    "Many basic arithmetic operations are built in to Python. The common operator that differs from typical math notation is `**`, which raises one number to the power of the other. So, `2**3` stands for $2^3$ and evaluates to 8. \n",
    "\n",
    "The order of operations is what you learned in elementary school, and Python also has parentheses.  For example, compare the outputs of the cells below."
   ]
  },
  {
   "cell_type": "code",
   "execution_count": 88,
   "id": "ccb10d50",
   "metadata": {},
   "outputs": [
    {
     "data": {
      "text/plain": [
       "-725.0"
      ]
     },
     "execution_count": 88,
     "metadata": {},
     "output_type": "execute_result"
    }
   ],
   "source": [
    "1+6*5-6*3**2*2**3/4*7"
   ]
  },
  {
   "cell_type": "code",
   "execution_count": 89,
   "id": "81b1020c",
   "metadata": {},
   "outputs": [
    {
     "data": {
      "text/plain": [
       "2017.0"
      ]
     },
     "execution_count": 89,
     "metadata": {},
     "output_type": "execute_result"
    }
   ],
   "source": [
    "1+(6*5-(6*3))**2*((2**3)/4*7)"
   ]
  },
  {
   "cell_type": "markdown",
   "id": "9008690b",
   "metadata": {},
   "source": [
    "In standard math notation, the first expression is\n",
    "\n",
    "$$1 + 6 \\times 5 - 6 \\times 3^2 \\times \\frac{2^3}{4} \\times 7,$$\n",
    "\n",
    "while the second expression is\n",
    "\n",
    "$$1 + (6 \\times 5 - (6 \\times 3))^2 \\times (\\frac{(2^3)}{4} \\times 7).$$\n",
    "\n",
    "**<font color='red'>Question:</font>** Write a Python expression in this next cell that's equal to $5 \\times (3 \\frac{10}{11}) - 50 \\frac{1}{3} + 2^{.5 \\times 22} - \\frac{7}{33}$.  That's five times three and ten elevenths, minus fifty and a third, plus two to the power of half 22, minus 7 33rds.  By \"$3 \\frac{10}{11}$\" we mean $3+\\frac{10}{11}$, not $3 \\times \\frac{10}{11}$."
   ]
  },
  {
   "cell_type": "code",
   "execution_count": 90,
   "id": "b5d4e7de",
   "metadata": {},
   "outputs": [
    {
     "data": {
      "text/plain": [
       "1.298074214633707e+33"
      ]
     },
     "execution_count": 90,
     "metadata": {},
     "output_type": "execute_result"
    }
   ],
   "source": [
    "## your code here\n",
    "5*(3+10/11)-(50+1/3)+2**(5*22)-7/33"
   ]
  },
  {
   "cell_type": "markdown",
   "id": "c29e057c",
   "metadata": {},
   "source": [
    "**<font color='red'>Question:</font>** In the next cell, write a Python expression equivalent to this math expression:\n",
    "\n",
    "$$1 - \\frac{2^2}{2^{20}}$$"
   ]
  },
  {
   "cell_type": "code",
   "execution_count": 91,
   "id": "4696f824",
   "metadata": {},
   "outputs": [
    {
     "data": {
      "text/plain": [
       "0.9999961853027344"
      ]
     },
     "execution_count": 91,
     "metadata": {},
     "output_type": "execute_result"
    }
   ],
   "source": [
    "## your code here\n",
    "1-(2**2)/(2**20)"
   ]
  },
  {
   "cell_type": "markdown",
   "id": "f7de5569",
   "metadata": {},
   "source": [
    "**<font color='red'>Question:</font>** A famous fact in mathematics is that\n",
    "\n",
    "$$(1 - \\frac{1}{n})^{-n}$$\n",
    "\n",
    "gets very close to the number $e$, which is roughly $2.718$, when $n$ is large.  Verify that it gets closer to $e$ as $n$ gets larger by writing this expression in Python and trying different values for $n$."
   ]
  },
  {
   "cell_type": "code",
   "execution_count": 92,
   "id": "0180a50c",
   "metadata": {},
   "outputs": [
    {
     "name": "stdout",
     "output_type": "stream",
     "text": [
      "2.867971990792441\n",
      "2.7319990264290284\n",
      "2.719642216442853\n"
     ]
    }
   ],
   "source": [
    "## your code here\n",
    "## Hint: you can use n = 10, 100, 1000,... and print your results.\n",
    "for x in [10, 100, 1000]:\n",
    "    result = (1 - 1/x)**(-x)\n",
    "    print(result)"
   ]
  },
  {
   "cell_type": "markdown",
   "id": "65bcfd0f",
   "metadata": {},
   "source": [
    "**<font color='red'>Question:</font>** The length of three sides of a triangle is $a$, $b$ and $c$, try to calculate the area $S$ of the triangle."
   ]
  },
  {
   "cell_type": "code",
   "execution_count": 93,
   "id": "0e6b41eb",
   "metadata": {},
   "outputs": [
    {
     "name": "stdout",
     "output_type": "stream",
     "text": [
      "The area of the triangle is  103.0506550197523\n"
     ]
    }
   ],
   "source": [
    "# your code here\n",
    "import math\n",
    "a = 17\n",
    "b = 16\n",
    "c = 30\n",
    "\n",
    "# first write the expression of S in terms of a, b and c\n",
    "s = (a + b + c) / 2\n",
    "S = math.sqrt(s * (s - a) * (s - b) * (s - c))\n",
    "# then print\n",
    "print (\"The area of the triangle is \", S)"
   ]
  },
  {
   "cell_type": "markdown",
   "id": "fcbe90da",
   "metadata": {},
   "source": [
    "## Application: A physics experiment\n",
    "\n",
    "On the Apollo 15 mission to the Moon, astronaut David Scott famously replicated Galileo's physics experiment in which he showed that gravity accelerates objects of different mass at the same rate. Because there is no air resistance for a falling object on the surface of the Moon, even two objects with very different masses and densities should fall at the same rate. David Scott compared a feather and a hammer.\n",
    "\n",
    "You can run the following cell to watch a video of the experiment."
   ]
  },
  {
   "cell_type": "code",
   "execution_count": 94,
   "id": "a1111e2d",
   "metadata": {
    "ExecuteTime": {
     "end_time": "2023-09-18T08:43:14.930078Z",
     "start_time": "2023-09-18T08:43:14.906847Z"
    }
   },
   "outputs": [
    {
     "data": {
      "text/html": [
       "<video src=\"./videoApollo.mp4\" controls  >\n",
       "      Your browser does not support the <code>video</code> element.\n",
       "    </video>"
      ],
      "text/plain": [
       "<IPython.core.display.Video object>"
      ]
     },
     "execution_count": 94,
     "metadata": {},
     "output_type": "execute_result"
    }
   ],
   "source": [
    "from IPython.display import Video\n",
    "Video(\"./videoApollo.mp4\")"
   ]
  },
  {
   "cell_type": "markdown",
   "id": "f2bc786e",
   "metadata": {},
   "source": [
    "Here's the transcript of the video:\n",
    "\n",
    "**00:01 Scott**: Well, in my left hand, I have a feather; in my right hand, a hammer. And I guess one of the reasons we got here today was because of a gentleman named Galileo, a long time ago, who made a rather significant discovery about falling objects in gravity fields. And we thought where would be a better place to confirm his findings than on the Moon. And so we thought we'd try it here for you. The feather happens to be, appropriately, a falcon feather for our Falcon. And I'll drop the two of them here and, hopefully, they'll hit the ground at the same time. \n",
    "\n",
    "**00:40 Scott**: How about that!\n",
    "\n",
    "**00:42 Allen**: How about that! (Applause in Houston)\n",
    "\n",
    "**00:43 Scott**: Which proves that Mr. Galileo was correct in his findings."
   ]
  },
  {
   "cell_type": "markdown",
   "id": "c1473554",
   "metadata": {},
   "source": [
    "**Newton's Law.** Using this footage, we can also attempt to confirm another famous bit of physics: Newton's law of universal gravitation. Newton's laws predict that any object dropped near the surface of the Moon should fall\n",
    "\n",
    "$$\\frac{1}{2} G \\frac{M}{R^2} t^2 \\text{ meters}$$\n",
    "\n",
    "after $t$ seconds, where $G$ is a universal constant, $M$ is the moon's mass in kilograms, and $R$ is the moon's radius in meters.  So if we know $G$, $M$, and $R$, then Newton's laws let us predict how far an object will fall over any amount of time.\n",
    "\n",
    "To verify the accuracy of this law, we will calculate the difference between the predicted distance the hammer drops and the actual distance.  (If they are different, it might be because Newton's laws are wrong, or because our measurements are imprecise, or because there are other factors affecting the hammer for which we haven't accounted.)\n",
    "\n",
    "Someone studied the video and estimated that the hammer was dropped 113 cm from the surface. Counting frames in the video, the hammer falls for 1.2 seconds (36 frames)."
   ]
  },
  {
   "cell_type": "markdown",
   "id": "168f9b0c",
   "metadata": {},
   "source": [
    "**<font color='red'>Question:</font>** Complete the code in the next cell to fill in the *data* from the experiment."
   ]
  },
  {
   "cell_type": "code",
   "execution_count": 95,
   "id": "5355d4f1",
   "metadata": {},
   "outputs": [],
   "source": [
    "# t, the duration of the fall in the experiment, in seconds.\n",
    "# Fill this in.\n",
    "time = 1.2\n",
    "\n",
    "# The estimated distance the hammer actually fell, in meters.\n",
    "# Fill this in.\n",
    "estimated_distance_m = 1.13"
   ]
  },
  {
   "cell_type": "markdown",
   "id": "f1bb1d1a",
   "metadata": {},
   "source": [
    "**<font color='red'>Question:</font>** Now, complete the code in the next cell to compute the difference between the predicted and estimated distances (in meters) that the hammer fell in this experiment.\n",
    "\n",
    "This just means translating the formula above ($\\frac{1}{2}G\\frac{M}{R^2}t^2$) into Python code.  You'll have to replace each variable in the math formula with the name we gave that number in Python code."
   ]
  },
  {
   "cell_type": "code",
   "execution_count": 96,
   "id": "27d323ae",
   "metadata": {},
   "outputs": [
    {
     "name": "stdout",
     "output_type": "stream",
     "text": [
      "0.040223694659304865\n"
     ]
    }
   ],
   "source": [
    "# First, we've written down the values of the 3 universal\n",
    "# constants that show up in Newton's formula.\n",
    "\n",
    "# G, the universal constant measuring the strength of gravity.\n",
    "gravity_constant = 6.674 * 10**-11\n",
    "\n",
    "# M, the moon's mass, in kilograms.\n",
    "moon_mass_kg = 7.34767309 * 10**22\n",
    "\n",
    "# R, the radius of the moon, in meters.\n",
    "moon_radius_m = 1.737 * 10**6\n",
    "\n",
    "# The distance the hammer should have fallen over the\n",
    "# duration of the fall, in meters, according to Newton's\n",
    "# law of gravity.  The text above describes the formula\n",
    "# for this distance given by Newton's law.\n",
    "# **YOU FILL THIS PART IN.**\n",
    "predicted_distance_m = 0.5 * gravity_constant * moon_mass_kg/moon_radius_m**2 * time**2\n",
    "\n",
    "# Here we've computed the difference between the predicted\n",
    "# fall distance and the distance we actually measured.\n",
    "# If you've filled in the above code, this should just work.\n",
    "difference = predicted_distance_m - estimated_distance_m\n",
    "print(difference)"
   ]
  },
  {
   "cell_type": "markdown",
   "id": "85efef64",
   "metadata": {},
   "source": [
    "# Calling functions\n",
    "\n",
    "The most common way to combine or manipulate values in Python is by calling functions. Python comes with many built-in functions that perform common operations.\n",
    "\n",
    "For example, the `abs` function takes a single number as its argument and returns the absolute value of that number.  The absolute value of a number is its distance from 0 on the number line, so `abs(5)` is 5 and `abs(-5)` is also 5."
   ]
  },
  {
   "cell_type": "code",
   "execution_count": 97,
   "id": "08108a7b",
   "metadata": {},
   "outputs": [
    {
     "data": {
      "text/plain": [
       "5"
      ]
     },
     "execution_count": 97,
     "metadata": {},
     "output_type": "execute_result"
    }
   ],
   "source": [
    "abs(5)"
   ]
  },
  {
   "cell_type": "code",
   "execution_count": 98,
   "id": "be477f47",
   "metadata": {},
   "outputs": [
    {
     "data": {
      "text/plain": [
       "5"
      ]
     },
     "execution_count": 98,
     "metadata": {},
     "output_type": "execute_result"
    }
   ],
   "source": [
    "abs(-5)"
   ]
  },
  {
   "cell_type": "markdown",
   "id": "1d1c8910",
   "metadata": {},
   "source": [
    "## Application: Computing walking distances\n",
    "Chunhua is on the corner of 7th Avenue and 42nd Street in Midtown Manhattan, and she wants to know far she'd have to walk to get to Gramercy School on the corner of 10th Avenue and 34th Street.\n",
    "\n",
    "She can't cut across blocks diagonally, since there are buildings in the way.  She has to walk along the sidewalks.  Using the map below, she sees she'd have to walk 3 avenues (long blocks) and 8 streets (short blocks).  In terms of the given numbers, she computed 3 as the difference between 7 and 10, *in absolute value*, and 8 similarly.  \n",
    "\n",
    "Chunhua also knows that blocks in Manhattan are all about 80m by 274m (avenues are farther apart than streets).  So in total, she'd have to walk $(80 \\times |42 - 34| + 274 \\times |7 - 10|)$ meters to get to the park.\n",
    "\n",
    "<img src=\"map.jpg\"/>\n",
    "\n",
    "**<font color='red'>Question:</font>** Finish the line `num_avenues_away = ...` in the next cell so that the cell calculates the distance Chunhua must walk and gives it the name `manhattan_distance`.  Everything else has been filled in for you.  **Use the `abs` function.**"
   ]
  },
  {
   "cell_type": "code",
   "execution_count": null,
   "id": "07a7f047",
   "metadata": {},
   "outputs": [],
   "source": []
  },
  {
   "cell_type": "code",
   "execution_count": 99,
   "id": "5bf4aa92",
   "metadata": {},
   "outputs": [
    {
     "name": "stdout",
     "output_type": "stream",
     "text": [
      "1462\n"
     ]
    }
   ],
   "source": [
    "# Here's the number of streets away:\n",
    "num_streets_away = abs(42-34)\n",
    "\n",
    "# Compute the number of avenues away in a similar way:\n",
    "num_avenues_away = abs(7-10)\n",
    "\n",
    "street_length_m = 80\n",
    "avenue_length_m = 274\n",
    "\n",
    "# Now we compute the total distance Chunhua must walk.\n",
    "manhattan_distance = street_length_m*num_streets_away + avenue_length_m*num_avenues_away\n",
    "\n",
    "# We've included this line so that you see the distance\n",
    "# you've computed when you run this cell.  You don't need\n",
    "# to change it, but you can if you want.\n",
    "print(manhattan_distance)"
   ]
  },
  {
   "cell_type": "code",
   "execution_count": null,
   "id": "c880d9b5",
   "metadata": {},
   "outputs": [],
   "source": []
  },
  {
   "cell_type": "markdown",
   "id": "29e27daa",
   "metadata": {},
   "source": [
    "# String Methods\n",
    "Strings can be transformed using **methods**, which are functions that involve an existing string and some other arguments. One example is the `replace` method, which replaces all instances of some part of a string with some alternative. \n",
    "\n",
    "A method is invoked on a string by placing a `.` after the string value, then the name of the method, and finally parentheses containing the arguments. Here's a sketch, where the `<` and `>` symbols aren't part of the syntax; they just mark the boundaries of sub-expressions.\n",
    "\n",
    "    <expression that evaluates to a string>.<method name>(<argument>, <argument>, ...)\n",
    "\n",
    "Try to predict the output of these examples, then execute them."
   ]
  },
  {
   "cell_type": "code",
   "execution_count": 100,
   "id": "73becf9b",
   "metadata": {},
   "outputs": [
    {
     "data": {
      "text/plain": [
       "'Hella'"
      ]
     },
     "execution_count": 100,
     "metadata": {},
     "output_type": "execute_result"
    }
   ],
   "source": [
    "# Replace one letter\n",
    "'Hello'.replace('o', 'a')"
   ]
  },
  {
   "cell_type": "code",
   "execution_count": 101,
   "id": "a3869352",
   "metadata": {},
   "outputs": [
    {
     "data": {
      "text/plain": [
       "'matchmaker'"
      ]
     },
     "execution_count": 101,
     "metadata": {},
     "output_type": "execute_result"
    }
   ],
   "source": [
    "# Replace a sequence of letters, which appears twice\n",
    "'hitchhiker'.replace('hi', 'ma')"
   ]
  },
  {
   "cell_type": "markdown",
   "id": "cb0d8d0e",
   "metadata": {},
   "source": [
    "Once a name is bound to a string value, methods can be invoked on that name as well. The name doesn't change in this case, so a new name is needed to capture the result. "
   ]
  },
  {
   "cell_type": "code",
   "execution_count": 102,
   "id": "bc230d54",
   "metadata": {},
   "outputs": [
    {
     "name": "stdout",
     "output_type": "stream",
     "text": [
      "sharp: edged\n",
      "hot: magma\n"
     ]
    }
   ],
   "source": [
    "sharp = 'edged'\n",
    "hot = sharp.replace('ed', 'ma')\n",
    "print('sharp:', sharp)\n",
    "print('hot:', hot)"
   ]
  },
  {
   "cell_type": "markdown",
   "id": "8e20ae7a",
   "metadata": {},
   "source": [
    "You can call functions on the results of other functions.  For example,\n",
    "\n",
    "    max(abs(-5), abs(3))\n",
    "\n",
    "has value 5.  Similarly, you can invoke methods on the results of other method (or function) calls."
   ]
  },
  {
   "cell_type": "code",
   "execution_count": 103,
   "id": "77e7d20c",
   "metadata": {},
   "outputs": [
    {
     "data": {
      "text/plain": [
       "'degrade'"
      ]
     },
     "execution_count": 103,
     "metadata": {},
     "output_type": "execute_result"
    }
   ],
   "source": [
    "# Calling replace on the output of another call to\n",
    "# replace\n",
    "'train'.replace('t', 'ing').replace('in', 'de')"
   ]
  },
  {
   "cell_type": "markdown",
   "id": "fad4689f",
   "metadata": {},
   "source": [
    "Here's a picture of how Python evaluates a \"chained\" method call like that:\n",
    "\n",
    "<img src=\"chaining_method_calls.jpg\"/>"
   ]
  },
  {
   "cell_type": "markdown",
   "id": "32a88adb",
   "metadata": {},
   "source": [
    "**<font color='red'>Question:</font>** Assign strings to the names `you` and `this` so that the final expression evaluates to a 10-letter English word with three consecutive double letters in a row.\n",
    "\n",
    "*Hint:* After you guess at some values for `you` and `this`, it's helpful to see the value of the variable `the`.  Try printing the value of `the` by adding a line like this:\n",
    "    \n",
    "    print(the)\n"
   ]
  },
  {
   "cell_type": "code",
   "execution_count": 104,
   "id": "0c3ccea1",
   "metadata": {},
   "outputs": [
    {
     "name": "stdout",
     "output_type": "stream",
     "text": [
      "beekeeper\n"
     ]
    }
   ],
   "source": [
    "# your code here\n",
    "you = 'keep'\n",
    "this = 'book'\n",
    "a = 'beeper'\n",
    "the = a.replace('p', you) \n",
    "the.replace('bee', this)\n",
    "print(the)"
   ]
  },
  {
   "cell_type": "markdown",
   "id": "bd368d6c",
   "metadata": {},
   "source": [
    "# Importing code\n",
    "\n",
    "> What has been will be again,  \n",
    "> what has been done will be done again;  \n",
    "> there is nothing new under the sun.\n",
    "\n",
    "Most programming involves work that is very similar to work that has been done before.  Since writing code is time-consuming, it's good to rely on others' published code when you can.  Rather than copy-pasting, Python allows us to **import** other code, creating a **module** that contains all of the names created by that code.\n",
    "\n",
    "Python includes many useful modules that are just an `import` away.  We'll look at the `math` module as a first example. The `math` module is extremely useful in computing mathematical expressions in Python. \n",
    "\n",
    "Suppose we want to very accurately compute the area of a circle with radius 5 meters.  For that, we need the constant $\\pi$, which is roughly 3.14.  Conveniently, the `math` module has `pi` defined for us:"
   ]
  },
  {
   "cell_type": "code",
   "execution_count": 105,
   "id": "b5ea2b1d",
   "metadata": {},
   "outputs": [
    {
     "data": {
      "text/plain": [
       "78.53981633974483"
      ]
     },
     "execution_count": 105,
     "metadata": {},
     "output_type": "execute_result"
    }
   ],
   "source": [
    "import math\n",
    "radius = 5\n",
    "area_of_circle = radius**2 * math.pi\n",
    "area_of_circle"
   ]
  },
  {
   "cell_type": "markdown",
   "id": "e0439509",
   "metadata": {},
   "source": [
    "`pi` is defined inside `math`, and the way that we access names that are inside modules is by writing the module's name, then a dot, then the name of the thing we want:\n",
    "\n",
    "    <module name>.<name>\n",
    "    \n",
    "In order to use a module at all, we must first write the statement `import <module name>`.  That statement creates a module object with things like `pi` in it and then assigns the name `math` to that module.  Above we have done that for `math`."
   ]
  },
  {
   "cell_type": "markdown",
   "id": "5cb7bbb0",
   "metadata": {},
   "source": [
    "**<font color='red'>Question:</font>** `math` also provides the name `e` for the base of the natural logarithm, which is roughly 2.71.  Compute $e^{\\pi}-\\pi$, giving it the name `near_twenty`."
   ]
  },
  {
   "cell_type": "code",
   "execution_count": 106,
   "id": "8165ee7f",
   "metadata": {},
   "outputs": [
    {
     "data": {
      "text/plain": [
       "19.99909997918947"
      ]
     },
     "execution_count": 106,
     "metadata": {},
     "output_type": "execute_result"
    }
   ],
   "source": [
    "near_twenty = math.e**math.pi-math.pi\n",
    "near_twenty"
   ]
  },
  {
   "cell_type": "markdown",
   "id": "03144774",
   "metadata": {},
   "source": [
    "## Importing functions\n",
    "\n",
    "**Modules** can provide other named things, including **functions**.  For example, `math` provides the name `sin` for the sine function.  Having imported `math` already, we can write `math.sin(3)` to compute the sine of 3.  (Note that this sine function considers its argument to be in [radians](https://en.wikipedia.org/wiki/Radian), not degrees.  180 degrees are equivalent to $\\pi$ radians.)\n",
    "\n",
    "**<font color='red'>Question:</font>** A $\\frac{\\pi}{4}$-radian (45-degree) angle forms a right triangle with equal base and height, pictured below.  If the hypotenuse (the radius of the circle in the picture) is 1, then the height is $\\sin(\\frac{\\pi}{4})$.  Compute that using `sin` and `pi` from the `math` module.  Give the result the name `sine_of_pi_over_four`.\n",
    "\n",
    "<img src=\"http://mathworld.wolfram.com/images/eps-gif/TrigonometryAnglesPi4_1000.gif\">\n",
    "(Source: [Wolfram MathWorld](http://mathworld.wolfram.com/images/eps-gif/TrigonometryAnglesPi4_1000.gif))"
   ]
  },
  {
   "cell_type": "code",
   "execution_count": 107,
   "id": "f498a4d2",
   "metadata": {},
   "outputs": [
    {
     "data": {
      "text/plain": [
       "0.7071067811865476"
      ]
     },
     "execution_count": 107,
     "metadata": {},
     "output_type": "execute_result"
    }
   ],
   "source": [
    "sine_of_pi_over_four = math.sin(math.pi/4)\n",
    "sine_of_pi_over_four"
   ]
  },
  {
   "cell_type": "markdown",
   "id": "e8d17b56",
   "metadata": {},
   "source": [
    "For your reference, here are some more examples of functions from the `math` module.\n",
    "\n",
    "Note how different methods take in different number of arguments. Often, the documentation of the module will provide information on how many arguments is required for each method."
   ]
  },
  {
   "cell_type": "code",
   "execution_count": 108,
   "id": "7cfe54c5",
   "metadata": {},
   "outputs": [
    {
     "data": {
      "text/plain": [
       "120"
      ]
     },
     "execution_count": 108,
     "metadata": {},
     "output_type": "execute_result"
    }
   ],
   "source": [
    "# Calculating factorials.\n",
    "math.factorial(5)"
   ]
  },
  {
   "cell_type": "code",
   "execution_count": 109,
   "id": "29bad3b6",
   "metadata": {},
   "outputs": [
    {
     "data": {
      "text/plain": [
       "3.0"
      ]
     },
     "execution_count": 109,
     "metadata": {},
     "output_type": "execute_result"
    }
   ],
   "source": [
    "# Calculating logarithms (the logarithm of 8 in base 2).\n",
    "# The result is 3 because 2 to the power of 3 is 8.\n",
    "math.log(8, 2)"
   ]
  },
  {
   "cell_type": "code",
   "execution_count": 110,
   "id": "456f783c",
   "metadata": {},
   "outputs": [
    {
     "data": {
      "text/plain": [
       "2.23606797749979"
      ]
     },
     "execution_count": 110,
     "metadata": {},
     "output_type": "execute_result"
    }
   ],
   "source": [
    "# Calculating square roots.\n",
    "math.sqrt(5)"
   ]
  },
  {
   "cell_type": "code",
   "execution_count": 111,
   "id": "876c7cdd",
   "metadata": {},
   "outputs": [
    {
     "data": {
      "text/plain": [
       "-1.0"
      ]
     },
     "execution_count": 111,
     "metadata": {},
     "output_type": "execute_result"
    }
   ],
   "source": [
    "# Calculating cosines.\n",
    "math.cos(math.pi)"
   ]
  },
  {
   "cell_type": "code",
   "execution_count": null,
   "id": "ed2b1dd9",
   "metadata": {},
   "outputs": [],
   "source": []
  }
 ],
 "metadata": {
  "kernelspec": {
   "display_name": "Python 3",
   "language": "python",
   "name": "python3"
  },
  "language_info": {
   "codemirror_mode": {
    "name": "ipython",
    "version": 3
   },
   "file_extension": ".py",
   "mimetype": "text/x-python",
   "name": "python",
   "nbconvert_exporter": "python",
   "pygments_lexer": "ipython3",
   "version": "3.11.9"
  },
  "toc": {
   "base_numbering": 1,
   "nav_menu": {},
   "number_sections": true,
   "sideBar": true,
   "skip_h1_title": false,
   "title_cell": "Table of Contents",
   "title_sidebar": "Contents",
   "toc_cell": false,
   "toc_position": {},
   "toc_section_display": true,
   "toc_window_display": false
  }
 },
 "nbformat": 4,
 "nbformat_minor": 5
}
