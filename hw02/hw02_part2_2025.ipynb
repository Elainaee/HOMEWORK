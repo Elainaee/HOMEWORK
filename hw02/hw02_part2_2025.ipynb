{
 "cells": [
  {
   "cell_type": "markdown",
   "id": "35bccfb1",
   "metadata": {},
   "source": [
    "**<font color='red' size=\"8pt\">Assignment 2</font>**"
   ]
  },
  {
   "cell_type": "markdown",
   "id": "aac273e9",
   "metadata": {},
   "source": [
    "# Answers of part 1 "
   ]
  },
  {
   "cell_type": "code",
   "execution_count": null,
   "id": "a74d2387",
   "metadata": {},
   "outputs": [],
   "source": [
    "# please put the answers of part 1 here, by completing the following strings:\n",
    "\n",
    "print(\"The answers of Questions 1 -10:\\t 1:, 2:, 3:, 4:, 5:, 6:, 7:, 8:, 9:, 10:\")\n",
    "print(\"The answers of Questions 11-20:\\t 11:, 12:, 13:, 14:, 15:, 16:, 17:, 18:, 19:, 20:\")\n",
    "print(\"The answers of Questions 21-30:\\t 21:, 22:, 23:, 24:, 25:, 26:, 27:, 28:, 29:, 30:\")\n",
    "print(\"The answers of Questions 31-40:\\t 31:, 32:, 33:, 34:, 35:, 36:, 37:, 38:, 39:, 40:\")\n",
    "print(\"The answers of Questions 41-50:\\t 41:, 42:, 43:, 44:, 45:, 46:, 47:, 48:, 49:, 50:\")"
   ]
  },
  {
   "cell_type": "markdown",
   "id": "6aa018f4",
   "metadata": {},
   "source": [
    "# Defining functions\n",
    "\n",
    "Let's write a very simple function that converts a proportion to a percentage by multiplying it by 100.  For example, the value of `to_percentage(.5)` should be the number 50.  (No percent sign.)\n",
    "\n",
    "A function definition has a few parts.\n",
    "\n",
    "##### `def`\n",
    "It always starts with `def` (short for **def**ine):\n",
    "\n",
    "    def\n",
    "\n",
    "##### Name\n",
    "Next comes the name of the function.  Let's call our function `to_percentage`.\n",
    "    \n",
    "    def to_percentage\n",
    "\n",
    "##### Signature\n",
    "Next comes something called the *signature* of the function.  This tells Python how many arguments your function should have, and what names you'll use to refer to those arguments in the function's code.  `to_percentage` should take one argument, and we'll call that argument `proportion` since it should be a proportion.\n",
    "\n",
    "    def to_percentage(proportion)\n",
    "\n",
    "We put a colon after the signature to tell Python it's over.\n",
    "\n",
    "    def to_percentage(proportion):\n",
    "\n",
    "##### Documentation\n",
    "Functions can do complicated things, so you should write an explanation of what your function does.  For small functions, this is less important, but it's a good habit to learn from the start.  Conventionally, Python functions are documented by writing a triple-quoted string:\n",
    "\n",
    "    def to_percentage(proportion):\n",
    "        \"\"\"Converts a proportion to a percentage.\"\"\"\n",
    "    \n",
    "    \n",
    "##### Body\n",
    "Now we start writing code that runs when the function is called.  This is called the *body* of the function.  We can write anything we could write anywhere else.  First let's give a name to the number we multiply a proportion by to get a percentage.\n",
    "\n",
    "    def to_percentage(proportion):\n",
    "        \"\"\"Converts a proportion to a percentage.\"\"\"\n",
    "        factor = 100\n",
    "\n",
    "##### `return`\n",
    "The special instruction `return` in a function's body tells Python to make the value of the function call equal to whatever comes right after `return`.  We want the value of `to_percentage(.5)` to be the proportion .5 times the factor 100, so we write:\n",
    "\n",
    "    def to_percentage(proportion):\n",
    "        \"\"\"Converts a proportion to a percentage.\"\"\"\n",
    "        factor = 100\n",
    "        return proportion * factor"
   ]
  },
  {
   "cell_type": "markdown",
   "id": "7fece776",
   "metadata": {},
   "source": [
    "**<font color='red'>Question:</font>** Define `to_percentage` in the cell below.  Call your function to convert the proportion .2 to a percentage.  Name that percentage `twenty_percent`."
   ]
  },
  {
   "cell_type": "code",
   "execution_count": null,
   "id": "75512914",
   "metadata": {},
   "outputs": [],
   "source": [
    "def ...\n",
    "    \"\"\" ... \"\"\"\n",
    "    ... = ...\n",
    "    return ...\n",
    "\n",
    "twenty_percent = ...\n",
    "twenty_percent"
   ]
  },
  {
   "cell_type": "markdown",
   "id": "85687a65",
   "metadata": {},
   "source": [
    "Like the built-in functions, you can use named values as arguments to your function.\n",
    "\n",
    "**<font color='red'>Question:</font>** Use `to_percentage` again to convert the proportion named `a_proportion` (defined below) to a percentage called `a_percentage`.\n",
    "\n",
    "*Note:* You don't need to define `to_percentage` again!  Just like other named things, functions stick around after you define them."
   ]
  },
  {
   "cell_type": "code",
   "execution_count": null,
   "id": "aa6a20e4",
   "metadata": {},
   "outputs": [],
   "source": [
    "a_proportion = 2**(.5) / 2\n",
    "a_percentage = ...\n",
    "a_percentage"
   ]
  },
  {
   "cell_type": "markdown",
   "id": "95796bb6",
   "metadata": {},
   "source": [
    "As we've seen with the built-in functions, functions can also take strings (or arrays, or tables) as arguments, and they can return those things, too.\n",
    "\n",
    "**<font color='red'>Question:</font>** Define a function called `disemvowel`.  It should take a single string as its argument.  (You can call that argument whatever you want.)  It should return a copy of that string, but with all the characters that are vowels removed.  (In English, the vowels are the characters \"a\", \"e\", \"i\", \"o\", and \"u\".)\n",
    "\n",
    "*Hint:* To remove all the \"a\"s from a string, you can use `that_string.replace(\"a\", \"\")`.  And you can call `replace` multiple times."
   ]
  },
  {
   "cell_type": "code",
   "execution_count": null,
   "id": "8b634e3d",
   "metadata": {},
   "outputs": [],
   "source": [
    "def disemvowel(a_string):\n",
    "    ...\n",
    "    ...\n",
    "\n",
    "# An example call to your function.  (It's often helpful to run\n",
    "# an example call from time to time while you're writing a function,\n",
    "# to see how it currently works.)\n",
    "disemvowel(\"Can you read this without vowels?\")"
   ]
  },
  {
   "cell_type": "markdown",
   "id": "8e73c9c5",
   "metadata": {},
   "source": [
    "##### Calls on calls on calls\n",
    "Just as you write a series of lines to build up a complex computation, it's useful to define a series of small functions that build on each other.  Since you can write any code inside a function's body, you can call other functions you've written.\n",
    "\n",
    "If a function is a like a recipe, defining a function in terms of other functions is like having a recipe for cake telling you to follow another recipe to make the frosting, and another to make the sprinkles.  This makes the cake recipe shorter and clearer, and it avoids having a bunch of duplicated frosting recipes.  It's a foundation of productive programming.\n",
    "\n",
    "For example, suppose you want to count the number of characters *that aren't vowels* in a piece of text.  One way to do that is this to remove all the vowels and count the size of the remaining string.\n",
    "\n",
    "**<font color='red'>Question:</font>** Write a function called `num_non_vowels`.  It should take a string as its argument and return a number.  The number should be the number of characters in the argument string that aren't vowels.\n",
    "\n",
    "*Hint:* The function `len` takes a string as its argument and returns the number of characters in it."
   ]
  },
  {
   "cell_type": "code",
   "execution_count": null,
   "id": "e2c51ff5",
   "metadata": {},
   "outputs": [],
   "source": [
    "def num_non_vowels(a_string):\n",
    "    \"\"\"The number of characters in a string, minus the vowels.\"\"\"\n",
    "    ...\n",
    "\n",
    "# Try calling your function yourself to make sure the output is what\n",
    "# you expect. "
   ]
  },
  {
   "cell_type": "markdown",
   "id": "aba08353",
   "metadata": {},
   "source": [
    "# Loops and condition"
   ]
  },
  {
   "cell_type": "markdown",
   "id": "213bea0c",
   "metadata": {},
   "source": [
    "**<font color='red'>Question:</font>** Find all possible 4-digit numbers satisfying:\n",
    "\n",
    "$$abcd\\times e = dcba$$\n",
    "\n",
    "the initial number can not be 0, and $a$, $b$, $c$, $d$ are different numbers. \n",
    "\n",
    "Print them out.\n",
    "\n",
    "Hint: you can transfer between string and integer:\n",
    "\n",
    "```Python\n",
    ">>str(1234)\n",
    "[out]: \"1234\"\n",
    ">>int(\"1234\")\n",
    "[out]: 1234\n",
    "```"
   ]
  },
  {
   "cell_type": "code",
   "execution_count": null,
   "id": "4caef2fc",
   "metadata": {},
   "outputs": [],
   "source": []
  },
  {
   "cell_type": "markdown",
   "id": "c1856d5b",
   "metadata": {},
   "source": [
    "**<font color='red'>Question:</font>**\n",
    "Write a function `summation` that evaluates the following summation for $n \\geq 1$:\n",
    "\n",
    "$$\\sum_{i=1}^{n} i^3 + 3 i^2$$"
   ]
  },
  {
   "cell_type": "code",
   "execution_count": null,
   "id": "0400015f",
   "metadata": {},
   "outputs": [],
   "source": [
    "def summation(n):\n",
    "    \"\"\"Compute the summation i^3 + 3 * i^2 for 1 <= i <= n.\"\"\"\n",
    "    ...\n",
    "    \n",
    "# test your function:\n",
    "summation(500)"
   ]
  },
  {
   "cell_type": "markdown",
   "id": "3aea8cda",
   "metadata": {},
   "source": [
    "**<font color='red'>Question:</font>**\n",
    "Recall the formula for population variance below:\n",
    "\n",
    "$$\\sigma^2 = \\frac{\\sum_{i=1}^N (x_i - \\mu)^2}{N}$$\n",
    "\n",
    "Complete the functions below to compute the population variance of `population`, an list of numbers. For this question, **do not use built in NumPy functions, such as `np.var`.** \n"
   ]
  },
  {
   "cell_type": "code",
   "execution_count": null,
   "id": "98fd0523",
   "metadata": {},
   "outputs": [],
   "source": [
    "def mean(population):\n",
    "    \"\"\"\n",
    "    Returns the mean of population (mu)\n",
    "    \n",
    "    Keyword arguments:\n",
    "    population -- a list of numbers\n",
    "    \"\"\"\n",
    "    # Calculate the mean of a population\n",
    "    ...\n",
    "\n",
    "def variance(population):\n",
    "    \"\"\"\n",
    "    Returns the variance of population (sigma squared)\n",
    "    \n",
    "    Keyword arguments:\n",
    "    population -- a list of numbers\n",
    "    \"\"\"\n",
    "    # Calculate the variance of a population\n",
    "    ...\n",
    "    \n"
   ]
  },
  {
   "cell_type": "code",
   "execution_count": null,
   "id": "3eaf5e23",
   "metadata": {},
   "outputs": [],
   "source": [
    "# to test the function, at first we generate a list of variables\n",
    "#that follow a normal distribution:\n",
    "import numpy as np\n",
    "population_generated = list(np.random.normal(1,0.3,500))\n",
    "# test\n",
    "# note that in each run, the results will differ a bit, \n",
    "#because the population we generated each time is ramdom samples\n",
    "\n",
    "print(\"The mean of the population is \", mean(population_generated))\n",
    "print(\"The variance of the population is \", variance(population_generated))"
   ]
  },
  {
   "cell_type": "markdown",
   "id": "47755624",
   "metadata": {},
   "source": [
    "**<font color='red'>Question:</font>**\n",
    "The **GPA**, or **Grade Point Average**, is a number that indicates how well or how high you scored in your courses on average.\n",
    "Based on SUSTech's grading system, the scores, Grade and GPA have the following relationship:\n",
    "\n",
    "| Grade | GPA | Score |\n",
    "|:----:|:----:|:--------:|\n",
    "| A+   | 4.00 | 97~100   |\n",
    "| A    | 3.94 | 93~96    |\n",
    "| A-   | 3.85 | 90~92    |\n",
    "| B+   | 3.73 | 87~89    |\n",
    "| B    | 3.55 | 83~86    |\n",
    "| B-   | 3.32 | 80~82    |\n",
    "| C+   | 3.09 | 77~79    |\n",
    "| C    | 2.78 | 73~76    |\n",
    "| C-   | 2.42 | 70~72    |\n",
    "| D+   | 2.08 | 67~69    |\n",
    "| D    | 1.63 | 63~66    |\n",
    "| D-   | 1.15 | 60~62    |\n",
    "| F    | 0    | <60      |\n",
    "\n",
    "Define a function ``Score2GradeGPA`` to convert a score (of total 100) to Grade and GPA according to the table above:"
   ]
  },
  {
   "cell_type": "code",
   "execution_count": null,
   "id": "16f8c661",
   "metadata": {},
   "outputs": [],
   "source": [
    "def Score2GradeGPA(score):\n",
    "    \"\"\"\n",
    "    Returns the Grade and GPA into a tuple.\n",
    "    \n",
    "    Keyword arguments:\n",
    "    score -- an integer or float value in the range [0,100]\n",
    "    \"\"\"\n",
    "    ...\n",
    "    \n",
    "    \n",
    "# test\n",
    "# here is the scores of 10 students:\n",
    "Scores = [50, 60.1, 71, 74.2, 99, 88, 79.5, 89, 83, 94]\n",
    "# apply the function:\n",
    "[Score2GradeGPA(score) for score in Scores]"
   ]
  },
  {
   "cell_type": "markdown",
   "id": "5e4694b5",
   "metadata": {},
   "source": [
    "# Set"
   ]
  },
  {
   "cell_type": "markdown",
   "id": "7de9ef75",
   "metadata": {},
   "source": [
    "The **Jaccard index**, also known as the **Jaccard similarity coefficient**, is a statistic used for gauging the similarity and diversity of sample sets. It was developed by Paul Jaccard, and independently formulated again by T. Tanimoto. The Jaccard coefficient measures similarity between finite sample sets, and is defined as the size of the intersection divided by the size of the union of the sample sets:\n",
    "\n",
    "$$J(A,B)=\\frac{|A \\cap B|}{|A \\cup B|}=\\frac{|A \\cap B|}{|A|+|B|-|A \\cap B|}$$\n",
    "\n",
    "Now we have list A_l and list B_l:"
   ]
  },
  {
   "cell_type": "code",
   "execution_count": null,
   "id": "ea5df30b",
   "metadata": {
    "ExecuteTime": {
     "end_time": "2021-09-25T01:36:07.331972Z",
     "start_time": "2021-09-25T01:36:07.310972Z"
    }
   },
   "outputs": [],
   "source": [
    "A_l = ['h','e','r','a','m','m','y','w','a','r','d','i','s','a','n','a','w','a','r','d',\n",
    "     'p','r','e','s','e','n','t','e','d','b','y','t','h','e','e','c','o','r','d','i',\n",
    "     'n','g','c','a','d','e','m','y','t','o','r','e','c','o','g','n','i','z','e','a',\n",
    "     'c','h','i','e','v','e','m','e','n','t','i','n','t','h','e','m','u','s','i','c',\n",
    "     'i','n','d','u','s','t','r','y','h','e','t','r','o','p','h','y','d','e','p','i']\n",
    "\n",
    "B_l = ['s','o','r','i','g','i','n','a','l','a','n','u','a','r','y','d','a','t','e','d',\n",
    "     'u','e','t','o','t','h','e','i','m','p','a','c','t','o','f','t','h','e','p','a',\n",
    "     'n','d','e','m','i','c','o','n','t','h','e','m','u','s','i','c','i','n','d','u',\n",
    "     's','t','r','y','i','n','a','n','d','a','r','o','u','n','d','t','h','e','o','s',\n",
    "     'n','g','e','l','e','s','o','n','v','e','n','t','i','o','n','e','n','t','e','r']"
   ]
  },
  {
   "cell_type": "markdown",
   "id": "1e73cbfe",
   "metadata": {},
   "source": [
    "**<font color='red'>Question:</font>** Try to define set A and set B based on the corresponding lists A_l and B_l, for set A (or B), the elements are unique members in list A_l (or B_l):"
   ]
  },
  {
   "cell_type": "code",
   "execution_count": null,
   "id": "71a86a4a",
   "metadata": {},
   "outputs": [],
   "source": []
  },
  {
   "cell_type": "markdown",
   "id": "5a28fdeb",
   "metadata": {},
   "source": [
    "**<font color='red'>Question:</font>** Try to calculate the Jaccard index of A and B, $J(A,B)$:"
   ]
  },
  {
   "cell_type": "code",
   "execution_count": null,
   "id": "656f0f34",
   "metadata": {},
   "outputs": [],
   "source": []
  },
  {
   "cell_type": "markdown",
   "id": "3b470db8",
   "metadata": {},
   "source": [
    "# String"
   ]
  },
  {
   "cell_type": "markdown",
   "id": "cdec9559",
   "metadata": {},
   "source": [
    "The Grammy Award, is an award presented by the Recording Academy to recognize achievement in the music industry. The trophy depicts a gilded gramophone. The annual award ceremony features performances by prominent artists and presentation of awards that showcase achievements made by industry recording artists. The first Grammy Awards ceremony was held on May 4, 1959, to honor the musical accomplishments of performers for the year 1958. After the 2011 ceremony, the Academy overhauled many Grammy Award categories for 2012. The 63rd Annual Grammy Awards were held on March 14, 2021 (after it was postponed from its original January 31, 2021 date due to the impact of the COVID-19 pandemic on the music industry), in and around the Los Angeles Convention Center. \n",
    "\n",
    "We have the full transcripts of this ceremony, see attached file \"Transcripts_63RD_ANNUAL_GRAMMY_AWARDS_2021.txt\"."
   ]
  },
  {
   "cell_type": "markdown",
   "id": "169aefc4",
   "metadata": {},
   "source": [
    "**<font color='red'>Question:</font>** Read the text from the file, extract all words, convert all words to lower cases, and save them into a list called **word_list**, remove all non-alphabet characters from each word."
   ]
  },
  {
   "cell_type": "code",
   "execution_count": null,
   "id": "d7c85510",
   "metadata": {},
   "outputs": [],
   "source": []
  },
  {
   "cell_type": "markdown",
   "id": "66196088",
   "metadata": {},
   "source": [
    "**<font color='red'>Question:</font>** Count the frequency of each unique word in **word_list**, and save the results into a dictionary called **word_count**: each key in the dictionary is a word, and the corresponding value is the frequency."
   ]
  },
  {
   "cell_type": "code",
   "execution_count": null,
   "id": "a815cc4e",
   "metadata": {},
   "outputs": [],
   "source": []
  },
  {
   "cell_type": "markdown",
   "id": "3de2a4fe",
   "metadata": {},
   "source": [
    "**<font color='red'>Question:</font>** Based on **word_count**, what's the top 10 frequently used words in this ceremony? Try to print the top 10 words and their frequency below:\n",
    "\n",
    "``For example:\n",
    "    word    frequency\n",
    "    of      100\n",
    "    happy   20\n",
    "    ...\n",
    "``"
   ]
  },
  {
   "cell_type": "code",
   "execution_count": null,
   "id": "9d0c660e",
   "metadata": {},
   "outputs": [],
   "source": []
  },
  {
   "cell_type": "markdown",
   "id": "10c99b7f",
   "metadata": {},
   "source": [
    "**<font color='red'>Question:</font>** For the top 120 frequently used words, what's top 5 frequently used alphabets? Try to print them out with the percentage they appear in the 100 words:\n",
    "\n",
    "``For example:\n",
    "    alphabet percentage\n",
    "    a   10.25%\n",
    "    b   20.01%\n",
    "    ...\n",
    "``"
   ]
  },
  {
   "cell_type": "code",
   "execution_count": null,
   "id": "30f84d5c",
   "metadata": {},
   "outputs": [],
   "source": []
  },
  {
   "cell_type": "markdown",
   "id": "529772c5",
   "metadata": {},
   "source": [
    "# Flip a coin"
   ]
  },
  {
   "cell_type": "markdown",
   "id": "c7199c6e",
   "metadata": {},
   "source": [
    "Python's built-in ``random`` module, can do the pseudorandom number generation. \n",
    "You can get more info. about it here:https://docs.python.org/3/library/random.html\n",
    "\n",
    "You can import the module:"
   ]
  },
  {
   "cell_type": "code",
   "execution_count": null,
   "id": "d526af20",
   "metadata": {
    "ExecuteTime": {
     "end_time": "2021-09-28T08:53:35.412161Z",
     "start_time": "2021-09-28T08:53:35.402129Z"
    }
   },
   "outputs": [],
   "source": [
    "import random"
   ]
  },
  {
   "cell_type": "markdown",
   "id": "c75b5ab0",
   "metadata": {},
   "source": [
    " The method ``random`` in the module ``random`` will return a random values between the interval 0 and 1. For example:"
   ]
  },
  {
   "cell_type": "code",
   "execution_count": null,
   "id": "5138ad94",
   "metadata": {
    "ExecuteTime": {
     "end_time": "2021-09-28T08:56:24.343912Z",
     "start_time": "2021-09-28T08:56:24.336886Z"
    }
   },
   "outputs": [],
   "source": [
    "random.random() # you can run this code multiple times to see how it works."
   ]
  },
  {
   "cell_type": "markdown",
   "id": "c0b9bc4b",
   "metadata": {},
   "source": [
    "**<font color='red'>Question:</font>** Define a function called ``flip_coin`` that return 0 or 1. Each time we call the function, it will return 0 with probability $p=0.2$, or return 1 with probability $1-p=0.8$. Try to use the method ``random.random()``:"
   ]
  },
  {
   "cell_type": "code",
   "execution_count": null,
   "id": "92048557",
   "metadata": {
    "ExecuteTime": {
     "end_time": "2021-09-28T09:11:16.562151Z",
     "start_time": "2021-09-28T09:11:16.543153Z"
    }
   },
   "outputs": [],
   "source": [
    "def flip_coin():\n",
    "    \"\"\"\n",
    "    Return 0 with probability 0.2, or return 1 with probability 0.8\n",
    "    \"\"\"\n",
    "    p = 0.2\n",
    "    ...\n"
   ]
  },
  {
   "cell_type": "code",
   "execution_count": null,
   "id": "01d366fa",
   "metadata": {
    "ExecuteTime": {
     "end_time": "2021-09-28T09:12:17.417995Z",
     "start_time": "2021-09-28T09:12:17.395995Z"
    }
   },
   "outputs": [],
   "source": [
    "# this code is used for verifying your flip coin function\n",
    "flip_times = 10000\n",
    "flip_coin_records = [flip_coin() for i in range(flip_times)]\n",
    "flip_1 = sum(flip_coin_records)\n",
    "print (\"Flip coins {0} times, in which {1:.3%} are 0, and {2:.3%} are 1.\".format(\n",
    "    flip_times,1-flip_1/flip_times, flip_1/flip_times))"
   ]
  },
  {
   "cell_type": "markdown",
   "id": "fd1e5324",
   "metadata": {},
   "source": [
    "# Real data analysis"
   ]
  },
  {
   "cell_type": "markdown",
   "id": "cfed6b6e",
   "metadata": {},
   "source": [
    "**<font color='red'>Question: Sales Data Analysis Report Generator</font>**\n",
    "\n",
    "**Background**\n",
    "\n",
    "You are a data analyst at an online retail company. The company generates a large amount of sales data daily, which is stored in CSV (Comma-Separated Values) format. Your task is to write a Python program that reads these sales data files, performs a simple analysis, and generates a summary report.\n",
    "\n",
    "**Data File**\n",
    "\n",
    "This project uses a real-world e-commerce sales dataset named `data.csv`.\n",
    "\n",
    "\n",
    "**`data.csv` File Format Description**\n",
    "\n",
    "The file contains the following columns:\n",
    "\n",
    "*   `InvoiceNo`: The invoice number.\n",
    "*   `StockCode`: The product code.\n",
    "*   `Quantity`: The quantity of the product per transaction.\n",
    "*   `InvoiceDate`: The date and time of the invoice.\n",
    "*   `UnitPrice`: The price per unit.\n",
    "*   `CustomerID`: The customer's ID.\n",
    "*   `Country`: The country where the customer resides.\n",
    "\n",
    "**Programming Requirements**\n",
    "\n",
    "You need to write a Python script that completes the following tasks:\n",
    "\n",
    "1.  **Read the Data File:**\n",
    "    *   Write a function `read_sales_data(file_path)` that takes a file path as an argument.\n",
    "    *   Use the `open()` function in read mode (`'r'`) to open the specified CSV file.\n",
    "    *   Read the file content line by line and parse each line, converting it into a list of dictionaries. Each row of data should be parsed into a dictionary where the keys are the column names and the values are the corresponding data.\n",
    "    *   The function should return this list of dictionaries.\n",
    "    *   **Note:** The first line of the CSV file is the header; you need to handle it correctly.\n",
    "\n",
    "2.  **Analyze the Data:**\n",
    "    *   Write a function `analyze_data(sales_data)` that takes the data returned by the `read_sales_data` function.\n",
    "    *   In this function, you need to calculate the following metrics:\n",
    "        *   **Total Revenue:** Calculate the total sales amount for all transactions (`Quantity` * `UnitPrice`).\n",
    "        *   **Best-Selling Product:** Identify the product with the highest total quantity sold (based on `StockCode`).\n",
    "        *   **Top Country by Sales:** Find the country with the highest total sales revenue.\n",
    "    *   The function should return a dictionary containing these three metrics.\n",
    "\n",
    "3.  **Generate the Report:**\n",
    "    *   Write a function `generate_report(analysis_results)` that takes the analysis results from the `analyze_data` function and print the output.\n",
    "    *   The report should include:\n",
    "        *   A report title\n",
    "        *   Total Revenue\n",
    "        *   The best-selling product and its total quantity sold\n",
    "        *   The top country by sales and its total revenue\n",
    "\n",
    "**Output**\n",
    "\n",
    "```\n",
    "Sales Data Analysis Report\n",
    "\n",
    "--------------------\n",
    "\n",
    "Total Revenue: 10666684.54\n",
    "\n",
    "Best-Selling Product:\n",
    "  - Product Code: 23843\n",
    "  - Total Quantity Sold: 80995\n",
    "\n",
    "Top Country by Sales:\n",
    "  - Country: United Kingdom\n",
    "  - Total Revenue: 9025222.08\n",
    "```"
   ]
  },
  {
   "cell_type": "code",
   "execution_count": null,
   "id": "6c00a1aa",
   "metadata": {},
   "outputs": [],
   "source": [
    "# your code here"
   ]
  }
 ],
 "metadata": {
  "kernelspec": {
   "display_name": "Python 3 (ipykernel)",
   "language": "python",
   "name": "python3"
  },
  "language_info": {
   "codemirror_mode": {
    "name": "ipython",
    "version": 3
   },
   "file_extension": ".py",
   "mimetype": "text/x-python",
   "name": "python",
   "nbconvert_exporter": "python",
   "pygments_lexer": "ipython3",
   "version": "3.9.12"
  },
  "toc": {
   "base_numbering": 1,
   "nav_menu": {},
   "number_sections": true,
   "sideBar": true,
   "skip_h1_title": false,
   "title_cell": "Table of Contents",
   "title_sidebar": "Contents",
   "toc_cell": false,
   "toc_position": {},
   "toc_section_display": true,
   "toc_window_display": false
  }
 },
 "nbformat": 4,
 "nbformat_minor": 5
}
